{
 "cells": [
  {
   "cell_type": "code",
   "execution_count": 8,
   "id": "cc8921eb",
   "metadata": {},
   "outputs": [],
   "source": [
    "import datetime\n",
    "import os\n",
    "\n",
    "# Define the bucket name for the files\n",
    "bucket_name = \"https://noaa-nwm-retrospective-2-1-pds.s3.amazonaws.com/forcing/\"\n",
    "# Define the start and end year for the file names\n",
    "start_year = 1980\n",
    "end_year = 1980\n",
    "\n",
    "\n",
    "# Define a function to check if a given year is a leap year\n",
    "def is_leap_year(year):\n",
    "    return year % 4 == 0 and (year % 100 != 0 or year % 400 == 0)\n",
    "\n",
    "\n",
    "# Create an empty list to store the file names\n",
    "file_names = []\n",
    "\n",
    "# Loop through each year, month, day, and hour\n",
    "for year in range(start_year, end_year + 1):\n",
    "    for month in range(1, 13):\n",
    "        # Determine the number of days in the current month\n",
    "        if month == 2:\n",
    "            if is_leap_year(year):\n",
    "                num_days = 29\n",
    "            else:\n",
    "                num_days = 28\n",
    "        elif month in [4, 6, 9, 11]:\n",
    "            num_days = 30\n",
    "        else:\n",
    "            num_days = 31\n",
    "\n",
    "        for day in range(1, num_days + 1):\n",
    "            for hour in range(0, 24):\n",
    "                # Create the file name in the format /bucket_name/year/yyyymmddhh00\n",
    "                file_name = f\"{bucket_name}/{year}/{year:04d}{month:02d}{day:02d}{hour:02d}00.LDASIN_DOMAIN1\"\n",
    "\n",
    "                # Append the file name to the list\n",
    "                file_names.append(file_name)\n",
    "\n",
    "# Save the file names to a text file\n",
    "with open(\"file_names.txt\", \"w\") as file:\n",
    "    # for file_name in file_names:\n",
    "    file.writelines(file_name)"
   ]
  },
  {
   "cell_type": "code",
   "execution_count": null,
   "id": "d64b7256",
   "metadata": {},
   "outputs": [],
   "source": []
  }
 ],
 "metadata": {
  "kernelspec": {
   "display_name": "Python 3 (ipykernel)",
   "language": "python",
   "name": "python3"
  },
  "language_info": {
   "codemirror_mode": {
    "name": "ipython",
    "version": 3
   },
   "file_extension": ".py",
   "mimetype": "text/x-python",
   "name": "python",
   "nbconvert_exporter": "python",
   "pygments_lexer": "ipython3",
   "version": "3.9.12"
  }
 },
 "nbformat": 4,
 "nbformat_minor": 5
}
